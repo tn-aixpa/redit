{
 "cells": [
  {
   "cell_type": "code",
   "execution_count": null,
   "id": "88cdae4f-0810-4b2e-9fb6-63515690780e",
   "metadata": {},
   "outputs": [],
   "source": [
    "import digitalhub as dh\n",
    "PROJECT_NAME = \"redit\"\n",
    "proj = dh.get_or_create_project(PROJECT_NAME) "
   ]
  },
  {
   "cell_type": "code",
   "execution_count": null,
   "id": "cb1ca0c1-4833-4887-9fec-300a84702f1a",
   "metadata": {},
   "outputs": [],
   "source": [
    "function = proj.new_function(\"redit\",kind=\"container\", image=\"ghcr.io/tn-aixpa/redit:1.1.0\")"
   ]
  },
  {
   "cell_type": "code",
   "execution_count": null,
   "id": "518a4ebf-02e2-4361-8f95-018b405c4fe8",
   "metadata": {
    "scrolled": true
   },
   "outputs": [],
   "source": [
    "serve_run = function.run(action=\"serve\", service_ports=[{\"port\": 8015, \"target_port\": 8015}], resources={\"cpu\": {\"requests\": \"4\", \"limits\": \"8\"}, \"mem\":{\"requests\": \"4Gi\", \"limits\": \"8Gi\"},}, wait=True)"
   ]
  },
  {
   "cell_type": "code",
   "execution_count": null,
   "id": "4b240018-75b7-4665-a62f-8ab3143d7eda",
   "metadata": {},
   "outputs": [],
   "source": [
    "service = serve_run.refresh().status.service\n",
    "service"
   ]
  },
  {
   "cell_type": "code",
   "execution_count": null,
   "id": "92ef82df-350c-4d03-9a08-9fbb48d979ed",
   "metadata": {},
   "outputs": [],
   "source": [
    "SERVICE_URL = serve_run.refresh().status.to_dict()[\"service\"][\"url\"]\n",
    "SERVICE_URL"
   ]
  },
  {
   "cell_type": "code",
   "execution_count": null,
   "id": "df74f1e4-dee7-41df-812a-846a53fcf6bf",
   "metadata": {},
   "outputs": [],
   "source": [
    "import requests\n",
    "SERVICE_URL = serve_run.refresh().status.to_dict()[\"service\"][\"url\"]\n",
    "\n",
    "with requests.post(f'http://{SERVICE_URL}/tint', data=\"Il sottoscritto Luca Rosetti, nato a Brindisi il 4 maggio 1984 e residente a Sanremo (IM) in Via Matteotti 42 dichiara di essere titolare dell\") as r:\n",
    "    res = r.content\n",
    "print(res)"
   ]
  }
 ],
 "metadata": {
  "kernelspec": {
   "display_name": "Python 3.10 (OltreAI)",
   "language": "python",
   "name": "python3.10"
  },
  "language_info": {
   "codemirror_mode": {
    "name": "ipython",
    "version": 3
   },
   "file_extension": ".py",
   "mimetype": "text/x-python",
   "name": "python",
   "nbconvert_exporter": "python",
   "pygments_lexer": "ipython3",
   "version": "3.10.18"
  }
 },
 "nbformat": 4,
 "nbformat_minor": 5
}
